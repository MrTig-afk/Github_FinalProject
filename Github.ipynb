{
  "nbformat": 4,
  "nbformat_minor": 0,
  "metadata": {
    "colab": {
      "provenance": []
    },
    "kernelspec": {
      "name": "python3",
      "display_name": "Python 3"
    },
    "language_info": {
      "name": "python"
    }
  },
  "cells": [
    {
      "cell_type": "code",
      "execution_count": 6,
      "metadata": {
        "id": "zmyyxBSdrx2d"
      },
      "outputs": [],
      "source": [
        "import sklearn.datasets\n",
        "import numpy as np\n",
        "import pandas as pd\n",
        "import matplotlib.pyplot as plt\n",
        "import seaborn as sns\n",
        "import warnings\n",
        "warnings.filterwarnings(\"ignore\")\n",
        "df=pd.read_csv(r\"/content/drive/MyDrive/Final Project/Final Project/Dataset/heart.csv\")"
      ]
    },
    {
      "cell_type": "code",
      "source": [
        "df.shape"
      ],
      "metadata": {
        "colab": {
          "base_uri": "https://localhost:8080/"
        },
        "id": "INfBpMQ_rzcJ",
        "outputId": "6e1970ed-f98e-4b22-ecb8-869d94b5586e"
      },
      "execution_count": 7,
      "outputs": [
        {
          "output_type": "execute_result",
          "data": {
            "text/plain": [
              "(1025, 14)"
            ]
          },
          "metadata": {},
          "execution_count": 7
        }
      ]
    },
    {
      "cell_type": "code",
      "source": [
        "# drop any row that contains a NaN value\n",
        "df.dropna(inplace=True)\n"
      ],
      "metadata": {
        "id": "nBuk2FF2r_E6"
      },
      "execution_count": 8,
      "outputs": []
    },
    {
      "cell_type": "code",
      "source": [
        "df.shape"
      ],
      "metadata": {
        "colab": {
          "base_uri": "https://localhost:8080/"
        },
        "id": "XIoYCA2ksS__",
        "outputId": "df4e78d5-3307-4081-9a89-96a05684fd54"
      },
      "execution_count": 9,
      "outputs": [
        {
          "output_type": "execute_result",
          "data": {
            "text/plain": [
              "(1025, 14)"
            ]
          },
          "metadata": {},
          "execution_count": 9
        }
      ]
    },
    {
      "cell_type": "code",
      "source": [
        "column_values = df[\"cp\"].unique()\n",
        "print(column_values)"
      ],
      "metadata": {
        "colab": {
          "base_uri": "https://localhost:8080/"
        },
        "id": "asXZbM5JsT7k",
        "outputId": "43b0be4d-d5b0-44cf-bf25-0288a2111c39"
      },
      "execution_count": 14,
      "outputs": [
        {
          "output_type": "stream",
          "name": "stdout",
          "text": [
            "[0 1 2 3]\n"
          ]
        }
      ]
    },
    {
      "cell_type": "code",
      "source": [
        "sns.barplot(x = 'cp', y = 'target', data = df)"
      ],
      "metadata": {
        "colab": {
          "base_uri": "https://localhost:8080/",
          "height": 466
        },
        "id": "xxKGwleStF_M",
        "outputId": "62c55788-3f35-4806-fe90-933e6183aa07"
      },
      "execution_count": 16,
      "outputs": [
        {
          "output_type": "execute_result",
          "data": {
            "text/plain": [
              "<Axes: xlabel='cp', ylabel='target'>"
            ]
          },
          "metadata": {},
          "execution_count": 16
        },
        {
          "output_type": "display_data",
          "data": {
            "text/plain": [
              "<Figure size 640x480 with 1 Axes>"
            ],
            "image/png": "[encoded data removed]"
          },
          "metadata": {}
        }
      ]
    },
    {
      "cell_type": "code",
      "source": [
        "sns.barplot(x = 'sex', y = 'target', data = df)"
      ],
      "metadata": {
        "colab": {
          "base_uri": "https://localhost:8080/",
          "height": 468
        },
        "id": "XGeBaqkNt7GE",
        "outputId": "3d5f94e3-a29f-487d-c31a-301bc2379c80"
      },
      "execution_count": 17,
      "outputs": [
        {
          "output_type": "execute_result",
          "data": {
            "text/plain": [
              "<Axes: xlabel='sex', ylabel='target'>"
            ]
          },
          "metadata": {},
          "execution_count": 17
        },
        {
          "output_type": "display_data",
          "data": {
            "text/plain": [
              "<Figure size 640x480 with 1 Axes>"
            ],
            "image/png": "[encoded data removed]"
          },
          "metadata": {}
        }
      ]
    },
    {
      "cell_type": "code",
      "source": [
        "from sklearn.model_selection import train_test_split\n",
        "newdata=df.dropna(axis=0,how='any')\n",
        "print(newdata.shape)\n",
        "X = df.drop('target', axis=1)\n",
        "Y = df['target']\n",
        "Y1=list(Y)\n",
        "\n",
        "Y=pd.DataFrame(Y)\n",
        "print(X.shape)\n",
        "print(Y.shape)\n",
        "print(Y)\n",
        "type(X)\n",
        "type(Y)\n",
        "X_train, X_test, Y_train, Y_test = train_test_split(X, Y, test_size=0.3, stratify = Y, random_state=1)\n",
        "print(X_train.shape,X_test.shape,Y_train.shape,Y_test.shape)\n",
        "print(X_train.mean(), X_test.mean(), X.mean())"
      ],
      "metadata": {
        "colab": {
          "base_uri": "https://localhost:8080/"
        },
        "id": "VDL01a9Z1jiY",
        "outputId": "68574a9a-0e89-4686-c352-2e51826d48e7"
      },
      "execution_count": 19,
      "outputs": [
        {
          "output_type": "stream",
          "name": "stdout",
          "text": [
            "(1025, 14)\n",
            "(1025, 13)\n",
            "(1025, 1)\n",
            "      target\n",
            "0          0\n",
            "1          0\n",
            "2          0\n",
            "3          0\n",
            "4          0\n",
            "...      ...\n",
            "1020       1\n",
            "1021       0\n",
            "1022       0\n",
            "1023       1\n",
            "1024       0\n",
            "\n",
            "[1025 rows x 1 columns]\n",
            "(717, 13) (308, 13) (717, 1) (308, 1)\n",
            "age          54.334728\n",
            "sex           0.670851\n",
            "cp            0.921897\n",
            "trestbps    131.690377\n",
            "chol        246.640167\n",
            "fbs           0.152022\n",
            "restecg       0.545328\n",
            "thalach     149.377964\n",
            "exang         0.340307\n",
            "oldpeak       1.071967\n",
            "slope         1.386332\n",
            "ca            0.754533\n",
            "thal          2.327755\n",
            "dtype: float64 age          54.665584\n",
            "sex           0.753247\n",
            "cp            0.990260\n",
            "trestbps    131.428571\n",
            "chol        244.509740\n",
            "fbs           0.142857\n",
            "restecg       0.493506\n",
            "thalach     148.500000\n",
            "exang         0.327922\n",
            "oldpeak       1.070455\n",
            "slope         1.383117\n",
            "ca            0.753247\n",
            "thal          2.314935\n",
            "dtype: float64 age          54.434146\n",
            "sex           0.695610\n",
            "cp            0.942439\n",
            "trestbps    131.611707\n",
            "chol        246.000000\n",
            "fbs           0.149268\n",
            "restecg       0.529756\n",
            "thalach     149.114146\n",
            "exang         0.336585\n",
            "oldpeak       1.071512\n",
            "slope         1.385366\n",
            "ca            0.754146\n",
            "thal          2.323902\n",
            "dtype: float64\n"
          ]
        }
      ]
    },
    {
      "cell_type": "code",
      "source": [
        "initial_number_of_data_points = len(X)\n",
        "\n",
        "\n",
        "def get_unique(X_matrix, y_vector):\n",
        "    Xy = list(set(list(zip([tuple(x) for x in X_matrix], y_vector))))\n",
        "    X_matrix = [list(l[0]) for l in Xy]\n",
        "    y_vector = [l[1] for l in Xy]\n",
        "    return X_matrix, y_vector\n",
        "\n",
        "\n",
        "X, Y = get_unique(X, Y)\n",
        "data_points_removed = initial_number_of_data_points - len(X)\n",
        "print(\"Number of duplicates removed:\", data_points_removed )"
      ],
      "metadata": {
        "colab": {
          "base_uri": "https://localhost:8080/"
        },
        "id": "LpfycZjH1vht",
        "outputId": "f50845b8-c0c7-4f58-98c2-db0eb04f5230"
      },
      "execution_count": 20,
      "outputs": [
        {
          "output_type": "stream",
          "name": "stdout",
          "text": [
            "Number of duplicates removed: 1024\n"
          ]
        }
      ]
    },
    {
      "cell_type": "code",
      "source": [
        "# Random Forest Classifier\n",
        "import numpy as np\n",
        "import pandas as pd\n",
        "from sklearn.ensemble import RandomForestClassifier\n",
        "from sklearn.ensemble import BaggingClassifier, AdaBoostClassifier\n",
        "from sklearn.metrics import accuracy_score, precision_score, recall_score, confusion_matrix\n",
        "from sklearn.model_selection import KFold, train_test_split\n",
        "\n",
        "newdata = df.dropna(axis=0, how='any')\n",
        "X = newdata.drop('target', axis=1)\n",
        "Y = newdata['target']\n",
        "\n",
        "# Train-Test Split\n",
        "X_train, X_test, Y_train, Y_test = train_test_split(X, Y, test_size=0.3, stratify=Y, random_state=1)\n",
        "\n",
        "# Initialize a Random Forest classifier\n",
        "rfclassifier = RandomForestClassifier()   #\n",
        "\n",
        "# Fit the Random Forest classifier to your training data\n",
        "rfclassifier.fit(X_train, np.ravel(Y_train))\n",
        "\n",
        "# Make predictions on your test data\n",
        "y_pred = rfclassifier.predict(X_test)\n",
        "\n",
        "# Calculate various performance metrics\n",
        "accuracy = accuracy_score(y_pred, Y_test)\n",
        "precision=precision_score(y_pred,Y_test)\n",
        "recall = recall_score(y_pred, Y_test)\n",
        "f1 = 2 * (precision * recall) / (precision + recall)\n",
        "cm = confusion_matrix(Y_test, y_pred)\n",
        "sensitivity = cm[0, 0] / (cm[0, 0] + cm[0, 1])\n",
        "specificity = cm[1, 0] / (cm[1, 0] + cm[1, 1])\n",
        "\n",
        "# Print the performance metrics\n",
        "print(\"Accuracy: {:.2f}%\".format(accuracy * 100))\n",
        "print(\"Precision: {:.2f}%\".format(precision * 100))\n",
        "print(\"Recall: {:.2f}%\".format(recall * 100))\n",
        "print(\"F1 Score: {:.2f}\".format(f1))\n",
        "print(\"Sensitivity: {:.2f}\".format(sensitivity))\n",
        "print(\"Specificity: {:.2f}\".format(specificity))\n",
        "\n",
        "# Initialize Bagging and Boosting classifiers using Logistic Regression as the base estimator\n",
        "baggclassifier = BaggingClassifier(base_estimator=rfclassifier, n_estimators=300)\n",
        "boostclassifier = AdaBoostClassifier(base_estimator=rfclassifier, algorithm=\"SAMME\", n_estimators=300)\n",
        "\n",
        "# Define a function to run k-fold cross-validation with a classifier\n",
        "def run_kfold(clf):\n",
        "    kf = KFold(n_splits=10, shuffle=False)\n",
        "    outcomesaccuracy = []\n",
        "    outcomesprecision = []\n",
        "    outcomesrecall = []\n",
        "    outcomesf1 = []\n",
        "    fold = 0\n",
        "\n",
        "    for train_index, test_index in kf.split(X):\n",
        "        fold += 1\n",
        "        X_train, X_test = X.iloc[train_index], X.iloc[test_index]\n",
        "        y_train, y_test = Y.iloc[train_index], Y.iloc[test_index]\n",
        "        clf.fit(X_train, np.ravel(y_train))\n",
        "        predictions = clf.predict(X_test)\n",
        "        accuracy = accuracy_score(y_test, predictions)\n",
        "        precision = precision_score(y_test, predictions)\n",
        "        recall = recall_score(y_test, predictions)\n",
        "        f1 = 2 * (precision * recall) / (precision + recall)\n",
        "\n",
        "        outcomesaccuracy.append(accuracy)\n",
        "        outcomesprecision.append(precision)\n",
        "        outcomesrecall.append(recall)\n",
        "        outcomesf1.append(f1)\n",
        "\n",
        "        print(\"Fold {0} accuracy: {1}\".format(fold, accuracy))\n",
        "        print(\"Fold {0} precision: {1}\".format(fold, precision))\n",
        "        print(\"Fold {0} recall: {1}\".format(fold, recall))\n",
        "        print(\"Fold {0} f1: {1}\".format(fold, f1))\n",
        "\n",
        "    mean_accuracy_outcome = np.mean(outcomesaccuracy)\n",
        "    mean_precision_outcome = np.mean(outcomesprecision)\n",
        "    mean_recall_outcome = np.mean(outcomesrecall)\n",
        "    mean_f1_outcome = np.mean(outcomesf1)\n",
        "\n",
        "    print(\"Mean Accuracy: {:.2f}\".format(mean_accuracy_outcome * 100))\n",
        "    print(\"Mean Precision: {:.2f}\".format(mean_precision_outcome * 100))\n",
        "    print(\"Mean Recall: {:.2f}\".format(mean_recall_outcome * 100))\n",
        "    print(\"Mean F1: {:.2f}\".format(mean_f1_outcome))\n",
        "\n",
        "# Run k-fold cross-validation with the boosting classifier\n",
        "print(\"Running k-fold cross-validation with Boosting Classifier:\")\n",
        "run_kfold(boostclassifier)\n"
      ],
      "metadata": {
        "colab": {
          "base_uri": "https://localhost:8080/"
        },
        "id": "ISOunCQh14RS",
        "outputId": "ea845aa8-891a-4e72-cbf7-73e720c39691"
      },
      "execution_count": 26,
      "outputs": [
        {
          "output_type": "stream",
          "name": "stdout",
          "text": [
            "Accuracy: 100.00%\n",
            "Precision: 100.00%\n",
            "Recall: 100.00%\n",
            "F1 Score: 1.00\n",
            "Sensitivity: 1.00\n",
            "Specificity: 0.00\n",
            "Running k-fold cross-validation with Boosting Classifier:\n",
            "Fold 1 accuracy: 1.0\n",
            "Fold 1 precision: 1.0\n",
            "Fold 1 recall: 1.0\n",
            "Fold 1 f1: 1.0\n",
            "Fold 2 accuracy: 1.0\n",
            "Fold 2 precision: 1.0\n",
            "Fold 2 recall: 1.0\n",
            "Fold 2 f1: 1.0\n",
            "Fold 3 accuracy: 1.0\n",
            "Fold 3 precision: 1.0\n",
            "Fold 3 recall: 1.0\n",
            "Fold 3 f1: 1.0\n",
            "Fold 4 accuracy: 1.0\n",
            "Fold 4 precision: 1.0\n",
            "Fold 4 recall: 1.0\n",
            "Fold 4 f1: 1.0\n",
            "Fold 5 accuracy: 1.0\n",
            "Fold 5 precision: 1.0\n",
            "Fold 5 recall: 1.0\n",
            "Fold 5 f1: 1.0\n",
            "Fold 6 accuracy: 1.0\n",
            "Fold 6 precision: 1.0\n",
            "Fold 6 recall: 1.0\n",
            "Fold 6 f1: 1.0\n",
            "Fold 7 accuracy: 1.0\n",
            "Fold 7 precision: 1.0\n",
            "Fold 7 recall: 1.0\n",
            "Fold 7 f1: 1.0\n",
            "Fold 8 accuracy: 1.0\n",
            "Fold 8 precision: 1.0\n",
            "Fold 8 recall: 1.0\n",
            "Fold 8 f1: 1.0\n",
            "Fold 9 accuracy: 0.9705882352941176\n",
            "Fold 9 precision: 0.9361702127659575\n",
            "Fold 9 recall: 1.0\n",
            "Fold 9 f1: 0.967032967032967\n",
            "Fold 10 accuracy: 1.0\n",
            "Fold 10 precision: 1.0\n",
            "Fold 10 recall: 1.0\n",
            "Fold 10 f1: 1.0\n",
            "Mean Accuracy: 99.71\n",
            "Mean Precision: 99.36\n",
            "Mean Recall: 100.00\n",
            "Mean F1: 1.00\n"
          ]
        }
      ]
    },
    {
      "cell_type": "code",
      "source": [
        "#Logistic Regression Classifier\n",
        "from sklearn.linear_model import LogisticRegression\n",
        "from sklearn.metrics import accuracy_score\n",
        "from sklearn.metrics import precision_score\n",
        "from sklearn.metrics import recall_score\n",
        "from sklearn.metrics import confusion_matrix\n",
        "import warnings\n",
        "warnings.filterwarnings(\"ignore\")\n",
        "lcclassifier = LogisticRegression()\n",
        "lcclassifier.fit(X_train, np.ravel(Y_train))\n",
        "y_pred = lcclassifier.predict(X_test)\n",
        "accuracy=accuracy_score(y_pred,Y_test)\n",
        "precision=precision_score(y_pred,Y_test)\n",
        "recall=recall_score(y_pred,Y_test)\n",
        "f1=2*(precision*recall)/(precision+recall)\n",
        "cm=confusion_matrix(Y_test,y_pred)\n",
        "sensitivity=cm[0,0]/(cm[0,0]+cm[0,1])\n",
        "specificity=cm[1,0]/(cm[1,0]+cm[1,1])\n",
        "print(\"Accuracy: {:.2f}%\".format(accuracy * 100))\n",
        "print(\"Precision: {:.2f}%\".format(precision * 100))\n",
        "print(\"Recall: {:.2f}%\".format(recall * 100))\n",
        "print(\"F1 Score: {:.2f}\".format(f1))\n",
        "print(\"Sensitivity: {:.2f}\".format(sensitivity))\n",
        "print(\"Specificity: {:.2f}\".format(specificity))\n",
        "\n",
        "print(\"Bagging Classifier\")\n",
        "baggclassifier=BaggingClassifier(base_estimator=lcclassifier,n_estimators=300)\n",
        "print(\"Boosting Classifier\")\n",
        "boostclassifier=AdaBoostClassifier(base_estimator=lcclassifier,algorithm=\"SAMME\",n_estimators=300)\n",
        "def run_kfold(clf):\n",
        "    kf = KFold(10,shuffle=False)\n",
        "    outcomesaccuracy = []\n",
        "    outcomesprecision = []\n",
        "    outcomesrecall = []\n",
        "    outcomesf1 = []\n",
        "    fold = 0\n",
        "    for train_index, test_index in kf.split(X):\n",
        "        fold += 1\n",
        "        X_train, X_test = X.values[train_index], X.values[test_index]\n",
        "        y_train, y_test = Y.values[train_index], Y.values[test_index]\n",
        "        clf.fit(X_train, np.ravel(y_train))\n",
        "        predictions = clf.predict(X_test)\n",
        "        accuracy = accuracy_score(y_test, predictions)\n",
        "        precision=precision_score(y_test,predictions)\n",
        "        recall=recall_score(y_test,predictions)\n",
        "        f1=2*(precision*recall)/(precision+recall)\n",
        "        cm=confusion_matrix(Y_test,y_pred)\n",
        "        sensitivity=cm[0,0]/(cm[0,0]+cm[0,1])\n",
        "        specificity=cm[1,0]/(cm[1,0]+cm[1,1])\n",
        "        outcomesaccuracy.append(accuracy)\n",
        "        outcomesprecision.append(precision)\n",
        "        outcomesrecall.append(recall)\n",
        "        outcomesf1.append(f1)\n",
        "        print(\"Fold {0} accuracy: {1}\".format(fold, accuracy))\n",
        "        print(\"Fold {0} precision: {1}\".format(fold, precision))\n",
        "        print(\"Fold {0} recall: {1}\".format(fold, recall))\n",
        "        print(\"Fold {0} f1: {1}\".format(fold, f1))\n",
        "        mean_accuracy_outcome = np.mean(outcomesaccuracy)\n",
        "        mean_precision_outcome = np.mean(outcomesprecision)\n",
        "        mean_recall_outcome = np.mean(outcomesrecall)\n",
        "        mean_f1_outcome = np.mean(outcomesf1)\n",
        "        print(\"Mean Accuracy: {0}\".format(mean_accuracy_outcome))\n",
        "        print(\"Mean Precision: {0}\".format(mean_precision_outcome))\n",
        "        print(\"Mean Recall: {0}\".format(mean_recall_outcome))\n",
        "        print(\"Mean F1: {0}\".format(mean_f1_outcome))\n",
        "\n",
        "run_kfold(boostclassifier)"
      ],
      "metadata": {
        "colab": {
          "base_uri": "https://localhost:8080/"
        },
        "id": "ZotEWkpm2qvF",
        "outputId": "26051932-20d6-402e-fbe1-6415716b4ab6"
      },
      "execution_count": 25,
      "outputs": [
        {
          "output_type": "stream",
          "name": "stdout",
          "text": [
            "Accuracy: 84.74%\n",
            "Precision: 90.51%\n",
            "Recall: 81.71%\n",
            "F1 Score: 0.86\n",
            "Sensitivity: 0.79\n",
            "Specificity: 0.09\n",
            "Bagging Classifier\n",
            "Boosting Classifier\n",
            "Fold 1 accuracy: 0.8640776699029126\n",
            "Fold 1 precision: 0.8333333333333334\n",
            "Fold 1 recall: 0.9\n",
            "Fold 1 f1: 0.8653846153846153\n",
            "Mean Accuracy: 0.8640776699029126\n",
            "Mean Precision: 0.8333333333333334\n",
            "Mean Recall: 0.9\n",
            "Mean F1: 0.8653846153846153\n",
            "Fold 2 accuracy: 0.8737864077669902\n",
            "Fold 2 precision: 0.8888888888888888\n",
            "Fold 2 recall: 0.8727272727272727\n",
            "Fold 2 f1: 0.8807339449541284\n",
            "Mean Accuracy: 0.8689320388349514\n",
            "Mean Precision: 0.8611111111111112\n",
            "Mean Recall: 0.8863636363636364\n",
            "Mean F1: 0.8730592801693718\n",
            "Fold 3 accuracy: 0.8543689320388349\n",
            "Fold 3 precision: 0.8813559322033898\n",
            "Fold 3 recall: 0.8666666666666667\n",
            "Fold 3 f1: 0.8739495798319329\n",
            "Mean Accuracy: 0.8640776699029126\n",
            "Mean Precision: 0.8678593848085373\n",
            "Mean Recall: 0.8797979797979799\n",
            "Mean F1: 0.8733560467235589\n",
            "Fold 4 accuracy: 0.8349514563106796\n",
            "Fold 4 precision: 0.8461538461538461\n",
            "Fold 4 recall: 0.8301886792452831\n",
            "Fold 4 f1: 0.8380952380952382\n",
            "Mean Accuracy: 0.8567961165048543\n",
            "Mean Precision: 0.8624330001448646\n",
            "Mean Recall: 0.8673956546598056\n",
            "Mean F1: 0.8645408445664787\n",
            "Fold 5 accuracy: 0.8058252427184466\n",
            "Fold 5 precision: 0.8214285714285714\n",
            "Fold 5 recall: 0.8214285714285714\n",
            "Fold 5 f1: 0.8214285714285714\n",
            "Mean Accuracy: 0.8466019417475728\n",
            "Mean Precision: 0.8542321144016058\n",
            "Mean Recall: 0.8582022380135588\n",
            "Mean F1: 0.8559183899388974\n",
            "Fold 6 accuracy: 0.8823529411764706\n",
            "Fold 6 precision: 0.9130434782608695\n",
            "Fold 6 recall: 0.84\n",
            "Fold 6 f1: 0.8749999999999999\n",
            "Mean Accuracy: 0.8525604416523892\n",
            "Mean Precision: 0.8640340083781498\n",
            "Mean Recall: 0.8551685316779656\n",
            "Mean F1: 0.8590986582824144\n",
            "Fold 7 accuracy: 0.7843137254901961\n",
            "Fold 7 precision: 0.7454545454545455\n",
            "Fold 7 recall: 0.8367346938775511\n",
            "Fold 7 f1: 0.7884615384615385\n",
            "Mean Accuracy: 0.8428109107720758\n",
            "Mean Precision: 0.8470940851033492\n",
            "Mean Recall: 0.8525351262779063\n",
            "Mean F1: 0.8490076411651464\n",
            "Fold 8 accuracy: 0.8137254901960784\n",
            "Fold 8 precision: 0.8181818181818182\n",
            "Fold 8 recall: 0.8333333333333334\n",
            "Fold 8 f1: 0.8256880733944955\n",
            "Mean Accuracy: 0.8391752332000761\n",
            "Mean Precision: 0.8434800517381579\n",
            "Mean Recall: 0.8501349021598348\n",
            "Mean F1: 0.846092695193815\n",
            "Fold 9 accuracy: 0.7450980392156863\n",
            "Fold 9 precision: 0.6730769230769231\n",
            "Fold 9 recall: 0.7954545454545454\n",
            "Fold 9 f1: 0.7291666666666666\n",
            "Mean Accuracy: 0.828722211646255\n",
            "Mean Precision: 0.8245463707757985\n",
            "Mean Recall: 0.8440593069703581\n",
            "Mean F1: 0.8331009142463541\n",
            "Fold 10 accuracy: 0.7647058823529411\n",
            "Fold 10 precision: 0.803921568627451\n",
            "Fold 10 recall: 0.7454545454545455\n",
            "Fold 10 f1: 0.7735849056603775\n",
            "Mean Accuracy: 0.8223205787169237\n",
            "Mean Precision: 0.8224838905609637\n",
            "Mean Recall: 0.8341988308187769\n",
            "Mean F1: 0.8271493133877564\n"
          ]
        }
      ]
    },
    {
      "cell_type": "code",
      "source": [
        "# Decision Tree Classifier\n",
        "from sklearn.tree import DecisionTreeClassifier\n",
        "from sklearn.ensemble import BaggingClassifier\n",
        "from sklearn.neighbors import KNeighborsClassifier\n",
        "from sklearn.ensemble import AdaBoostClassifier\n",
        "from sklearn.metrics import accuracy_score\n",
        "from sklearn.metrics import precision_score\n",
        "from sklearn.metrics import recall_score\n",
        "from sklearn.metrics import confusion_matrix\n",
        "dtclassifier = DecisionTreeClassifier()\n",
        "dtclassifier.fit(X_train, np.ravel(Y_train))\n",
        "y_pred = dtclassifier.predict(X_test)\n",
        "accuracy=accuracy_score(y_pred,Y_test)\n",
        "precision=precision_score(y_pred,Y_test)\n",
        "recall=recall_score(y_pred,Y_test)\n",
        "f1=2*(precision*recall)/(precision+recall)\n",
        "cm=confusion_matrix(Y_test,y_pred)\n",
        "sensitivity=cm[0,0]/(cm[0,0]+cm[0,1])\n",
        "specificity=cm[1,0]/(cm[1,0]+cm[1,1])\n",
        "print(accuracy*100)\n",
        "print(precision*100)\n",
        "print(recall*100)\n",
        "print(f1)\n",
        "print(sensitivity)\n",
        "print(specificity)\n",
        "print(\"Bagging Classifier\")\n",
        "baggclassifier=BaggingClassifier(base_estimator=dtclassifier,n_estimators=300)\n",
        "print(\"Boosting Classifier\")\n",
        "boostclassifier=AdaBoostClassifier(base_estimator=dtclassifier,algorithm=\"SAMME\",n_estimators=150)\n",
        "def run_kfold(clf):\n",
        "    kf = KFold(10,shuffle=False)\n",
        "    outcomesaccuracy = []\n",
        "    outcomesprecision = []\n",
        "    outcomesrecall = []\n",
        "    outcomesf1 = []\n",
        "    fold = 0\n",
        "    for train_index, test_index in kf.split(X):\n",
        "        fold += 1\n",
        "        X_train, X_test = X.values[train_index], X.values[test_index]\n",
        "        y_train, y_test = Y.values[train_index], Y.values[test_index]\n",
        "        clf.fit(X_train, np.ravel(y_train))\n",
        "        predictions = clf.predict(X_test)\n",
        "        accuracy = accuracy_score(y_test, predictions)\n",
        "        precision=precision_score(y_test,predictions)\n",
        "        recall=recall_score(y_test,predictions)\n",
        "        f1=2*(precision*recall)/(precision+recall)\n",
        "        cm=confusion_matrix(Y_test,y_pred)\n",
        "        sensitivity=cm[0,0]/(cm[0,0]+cm[0,1])\n",
        "        specificity=cm[1,0]/(cm[1,0]+cm[1,1])\n",
        "        outcomesaccuracy.append(accuracy)\n",
        "        outcomesprecision.append(precision)\n",
        "        outcomesrecall.append(recall)\n",
        "        outcomesf1.append(f1)\n",
        "        print(\"Fold {0} accuracy: {1}\".format(fold, accuracy))\n",
        "        print(\"Fold {0} precision: {1}\".format(fold, precision))\n",
        "        print(\"Fold {0} recall: {1}\".format(fold, recall))\n",
        "        print(\"Fold {0} f1: {1}\".format(fold, f1))\n",
        "        mean_accuracy_outcome = np.mean(outcomesaccuracy)\n",
        "        mean_precision_outcome = np.mean(outcomesprecision)\n",
        "        mean_recall_outcome = np.mean(outcomesrecall)\n",
        "        mean_f1_outcome = np.mean(outcomesf1)\n",
        "        print(\"Mean Accuracy: {0}\".format(mean_accuracy_outcome))\n",
        "        print(\"Mean Precision: {0}\".format(mean_precision_outcome))\n",
        "        print(\"Mean Recall: {0}\".format(mean_recall_outcome))\n",
        "        print(\"Mean F1: {0}\".format(mean_f1_outcome))\n",
        "\n",
        "run_kfold(boostclassifier)"
      ],
      "metadata": {
        "colab": {
          "base_uri": "https://localhost:8080/"
        },
        "id": "MF3aFF-G379a",
        "outputId": "b35e8dfc-9c20-4b75-86b3-3ca02d1b9b61"
      },
      "execution_count": 27,
      "outputs": [
        {
          "output_type": "stream",
          "name": "stdout",
          "text": [
            "100.0\n",
            "100.0\n",
            "100.0\n",
            "1.0\n",
            "1.0\n",
            "0.0\n",
            "Bagging Classifier\n",
            "Boosting Classifier\n",
            "Fold 1 accuracy: 1.0\n",
            "Fold 1 precision: 1.0\n",
            "Fold 1 recall: 1.0\n",
            "Fold 1 f1: 1.0\n",
            "Mean Accuracy: 1.0\n",
            "Mean Precision: 1.0\n",
            "Mean Recall: 1.0\n",
            "Mean F1: 1.0\n",
            "Fold 2 accuracy: 1.0\n",
            "Fold 2 precision: 1.0\n",
            "Fold 2 recall: 1.0\n",
            "Fold 2 f1: 1.0\n",
            "Mean Accuracy: 1.0\n",
            "Mean Precision: 1.0\n",
            "Mean Recall: 1.0\n",
            "Mean F1: 1.0\n",
            "Fold 3 accuracy: 1.0\n",
            "Fold 3 precision: 1.0\n",
            "Fold 3 recall: 1.0\n",
            "Fold 3 f1: 1.0\n",
            "Mean Accuracy: 1.0\n",
            "Mean Precision: 1.0\n",
            "Mean Recall: 1.0\n",
            "Mean F1: 1.0\n",
            "Fold 4 accuracy: 0.970873786407767\n",
            "Fold 4 precision: 1.0\n",
            "Fold 4 recall: 0.9433962264150944\n",
            "Fold 4 f1: 0.970873786407767\n",
            "Mean Accuracy: 0.9927184466019418\n",
            "Mean Precision: 1.0\n",
            "Mean Recall: 0.9858490566037736\n",
            "Mean F1: 0.9927184466019418\n",
            "Fold 5 accuracy: 0.970873786407767\n",
            "Fold 5 precision: 1.0\n",
            "Fold 5 recall: 0.9464285714285714\n",
            "Fold 5 f1: 0.9724770642201834\n",
            "Mean Accuracy: 0.9883495145631068\n",
            "Mean Precision: 1.0\n",
            "Mean Recall: 0.9779649595687332\n",
            "Mean F1: 0.9886701701255902\n",
            "Fold 6 accuracy: 1.0\n",
            "Fold 6 precision: 1.0\n",
            "Fold 6 recall: 1.0\n",
            "Fold 6 f1: 1.0\n",
            "Mean Accuracy: 0.9902912621359223\n",
            "Mean Precision: 1.0\n",
            "Mean Recall: 0.9816374663072777\n",
            "Mean F1: 0.9905584751046584\n",
            "Fold 7 accuracy: 1.0\n",
            "Fold 7 precision: 1.0\n",
            "Fold 7 recall: 1.0\n",
            "Fold 7 f1: 1.0\n",
            "Mean Accuracy: 0.9916782246879334\n",
            "Mean Precision: 1.0\n",
            "Mean Recall: 0.984260685406238\n",
            "Mean F1: 0.9919072643754215\n",
            "Fold 8 accuracy: 1.0\n",
            "Fold 8 precision: 1.0\n",
            "Fold 8 recall: 1.0\n",
            "Fold 8 f1: 1.0\n",
            "Mean Accuracy: 0.9927184466019418\n",
            "Mean Precision: 1.0\n",
            "Mean Recall: 0.9862280997304582\n",
            "Mean F1: 0.9929188563284939\n",
            "Fold 9 accuracy: 1.0\n",
            "Fold 9 precision: 1.0\n",
            "Fold 9 recall: 1.0\n",
            "Fold 9 f1: 1.0\n",
            "Mean Accuracy: 0.9935275080906147\n",
            "Mean Precision: 1.0\n",
            "Mean Recall: 0.9877583108715184\n",
            "Mean F1: 0.9937056500697723\n",
            "Fold 10 accuracy: 1.0\n",
            "Fold 10 precision: 1.0\n",
            "Fold 10 recall: 1.0\n",
            "Fold 10 f1: 1.0\n",
            "Mean Accuracy: 0.9941747572815534\n",
            "Mean Precision: 1.0\n",
            "Mean Recall: 0.9889824797843666\n",
            "Mean F1: 0.9943350850627951\n"
          ]
        }
      ]
    },
    {
      "cell_type": "code",
      "source": [],
      "metadata": {
        "id": "h0pxIhU76Yfb"
      },
      "execution_count": null,
      "outputs": []
    }
  ]
}